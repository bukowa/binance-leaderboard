{
 "cells": [
  {
   "cell_type": "code",
   "execution_count": 11,
   "outputs": [],
   "source": [
    "import json\n",
    "\n",
    "\n",
    "with open('binance/traders_with_position.json', 'r') as f:\n",
    "    traders = json.load(f)\n",
    "\n",
    "with open('binance/positions.json', 'r') as f:\n",
    "    positions = json.load(f)\n"
   ],
   "metadata": {
    "collapsed": false,
    "ExecuteTime": {
     "start_time": "2023-03-13T13:43:50.369721Z",
     "end_time": "2023-03-13T13:43:50.394981Z"
    }
   }
  },
  {
   "cell_type": "code",
   "execution_count": 12,
   "id": "45de5e47",
   "metadata": {
    "tags": [],
    "ExecuteTime": {
     "start_time": "2023-03-13T13:43:50.381378Z",
     "end_time": "2023-03-13T13:43:50.410988Z"
    }
   },
   "outputs": [
    {
     "data": {
      "text/plain": "{'futureUid': None,\n 'nickName': 'Anonymous User-ed59d2',\n 'userPhotoUrl': '',\n 'rank': 3126,\n 'pnl': 4101.807813,\n 'roi': 0.462519,\n 'positionShared': True,\n 'twitterUrl': None,\n 'encryptedUid': '2BE322FB92BD022BC8E45500EE5F7527',\n 'updateTime': 1678320000000,\n 'followerCount': 0,\n 'twShared': None,\n 'isTwTrader': False,\n 'openId': None,\n 'tradeType': 'PERPETUAL'}"
     },
     "execution_count": 12,
     "metadata": {},
     "output_type": "execute_result"
    }
   ],
   "source": [
    "traders[0]"
   ]
  },
  {
   "cell_type": "code",
   "execution_count": 13,
   "id": "9bfe2200",
   "metadata": {
    "tags": [],
    "ExecuteTime": {
     "start_time": "2023-03-13T13:43:50.389477Z",
     "end_time": "2023-03-13T13:43:50.457597Z"
    }
   },
   "outputs": [
    {
     "data": {
      "text/plain": "{'symbol': 'ETHUSDT',\n 'entryPrice': 1593.51,\n 'markPrice': 1577.04757891,\n 'pnl': 82.31210545,\n 'roe': 1.04387599,\n 'updateTime': [2023, 3, 13, 8, 44, 19, 732000000],\n 'amount': -5.0,\n 'updateTimeStamp': 1678697059732,\n 'yellow': True,\n 'tradeBefore': False,\n 'leverage': 100,\n 'uuid': 'EF3DBA7240B37B3D1CA5FA188B5AF62E',\n 'tradeType': 'PERPETUAL',\n 'total_pnl': 3.030703,\n 'total_roi': 36.043431999999996}"
     },
     "execution_count": 13,
     "metadata": {},
     "output_type": "execute_result"
    }
   ],
   "source": [
    "positions[0]"
   ]
  },
  {
   "cell_type": "code",
   "execution_count": 14,
   "id": "bfe5a815",
   "metadata": {
    "tags": [],
    "ExecuteTime": {
     "start_time": "2023-03-13T13:43:50.437254Z",
     "end_time": "2023-03-13T13:43:50.457878Z"
    }
   },
   "outputs": [],
   "source": [
    "good_positions = [pos for pos in positions if pos['roe'] *100 > 25]"
   ]
  },
  {
   "cell_type": "code",
   "execution_count": 15,
   "id": "b8121a8c-6ae0-45b8-85cb-ad94ae856dac",
   "metadata": {
    "tags": [],
    "ExecuteTime": {
     "start_time": "2023-03-13T13:43:50.437426Z",
     "end_time": "2023-03-13T13:43:50.458137Z"
    }
   },
   "outputs": [
    {
     "data": {
      "text/plain": "192"
     },
     "execution_count": 15,
     "metadata": {},
     "output_type": "execute_result"
    }
   ],
   "source": [
    "len(good_positions)"
   ]
  },
  {
   "cell_type": "code",
   "execution_count": 16,
   "id": "f4f9249e-1cbe-4f5d-b8cd-44d677aa3202",
   "metadata": {
    "tags": [],
    "ExecuteTime": {
     "start_time": "2023-03-13T13:43:50.437688Z",
     "end_time": "2023-03-13T13:43:50.458277Z"
    }
   },
   "outputs": [],
   "source": [
    "good_positions = positions\n",
    "btc_positions = [pos for pos in good_positions if pos['symbol'].startswith('BTC')]"
   ]
  },
  {
   "cell_type": "code",
   "execution_count": 17,
   "id": "32a2fc31-75e5-46df-8536-3a8d607b4b24",
   "metadata": {
    "tags": [],
    "ExecuteTime": {
     "start_time": "2023-03-13T13:43:50.437913Z",
     "end_time": "2023-03-13T13:43:50.458495Z"
    }
   },
   "outputs": [
    {
     "data": {
      "text/plain": "22"
     },
     "execution_count": 17,
     "metadata": {},
     "output_type": "execute_result"
    }
   ],
   "source": [
    "len(btc_positions)"
   ]
  },
  {
   "cell_type": "code",
   "execution_count": 18,
   "id": "bedeb041-270a-48ba-ab6d-c3ca3791583d",
   "metadata": {
    "tags": [],
    "ExecuteTime": {
     "start_time": "2023-03-13T13:43:50.438195Z",
     "end_time": "2023-03-13T13:43:50.498366Z"
    }
   },
   "outputs": [],
   "source": [
    "btc_entries = []\n",
    "for pos in btc_positions:\n",
    "    btc_entries.append(\n",
    "        dict(\n",
    "            entry=pos['entryPrice'],\n",
    "            direction='SHORT' if pos['amount'] < 0 else 'LONG',\n",
    "            time=pos['updateTime']\n",
    "        )\n",
    "    )"
   ]
  },
  {
   "cell_type": "code",
   "execution_count": 19,
   "id": "5a69eb4e-4cd3-4fcc-aa87-213d816ccb21",
   "metadata": {
    "tags": [],
    "ExecuteTime": {
     "start_time": "2023-03-13T13:43:50.481081Z",
     "end_time": "2023-03-13T13:43:50.502537Z"
    }
   },
   "outputs": [],
   "source": [
    "def ps_position_new(pos:dict) -> str:\n",
    "    t = pos['time']\n",
    "    return f\"position.new('{pos['direction']}',timestamp{t[0], t[1], t[2], t[3], t[4], t[5]},{pos['entry']})\"\n",
    "\n",
    "def ps_positions(_pos: list[dict]) -> str:\n",
    "    p = [ps_position_new(pos) for pos in _pos]\n",
    "    return 'var position[] positions  = array.from(' + ','.join(p) + ')'\n",
    "\n",
    "def ps(_pos: list[dict]) -> str:\n",
    "    return f\"\"\"\n",
    "// This source code is subject to the terms of the Mozilla Public License 2.0 at https://mozilla.org/MPL/2.0/\n",
    "// © bkxuks\n",
    "\n",
    "//@version=5\n",
    "indicator('plotshape example 1', overlay=true)\n",
    "\n",
    "type position\n",
    "    string direction\n",
    "    int time\n",
    "    float entry\n",
    "\n",
    "{ps_positions(_pos)}\n",
    "\n",
    "plot_long = false\n",
    "plot_short = false\n",
    "var position pos = position.new()\n",
    "\n",
    "for i = 0 to array.size(positions) -1\n",
    "    pos := array.get(positions, i)\n",
    "    data = pos.time > time and pos.time < time_close\n",
    "    if data\n",
    "        if pos.direction == 'LONG'\n",
    "            plot_long := true\n",
    "            line.new(bar_index, pos.entry, bar_index+1, pos.entry, extend=extend.right, color=color.green, style=line.style_solid)\n",
    "        else if pos.direction == 'SHORT'\n",
    "            line.new(bar_index, pos.entry, bar_index+1, pos.entry, extend=extend.right, color=color.red, style=line.style_solid)\n",
    "            plot_short := true\n",
    "        break\n",
    "\n",
    "\n",
    "plotshape(plot_long, style=shape.arrowup, location=location.abovebar, color = color.green)\n",
    "plotshape(plot_short, style=shape.arrowdown, location=location.abovebar, color = color.red)\n",
    "\n",
    "\n",
    "// target_date = timestamp(2023, 3, 11, 09, 58, 42)\n",
    "// data = target_date > time and target_date < time_close\n",
    "// plotshape(data, style=shape.xcross, location=location.abovebar)\n",
    "\"\"\""
   ]
  },
  {
   "cell_type": "code",
   "execution_count": 20,
   "id": "12e6ba33-e757-48c5-8c0e-c2ebbcca6baf",
   "metadata": {
    "tags": [],
    "ExecuteTime": {
     "start_time": "2023-03-13T13:43:50.481258Z",
     "end_time": "2023-03-13T13:43:50.502855Z"
    }
   },
   "outputs": [
    {
     "name": "stdout",
     "output_type": "stream",
     "text": [
      "\n",
      "// This source code is subject to the terms of the Mozilla Public License 2.0 at https://mozilla.org/MPL/2.0/\n",
      "// © bkxuks\n",
      "\n",
      "//@version=5\n",
      "indicator('plotshape example 1', overlay=true)\n",
      "\n",
      "type position\n",
      "    string direction\n",
      "    int time\n",
      "    float entry\n",
      "\n",
      "var position[] positions  = array.from(position.new('LONG',timestamp(2023, 3, 8, 16, 36, 23),22138.6063249),position.new('LONG',timestamp(2023, 3, 13, 6, 0, 10),22302.62869283),position.new('SHORT',timestamp(2023, 2, 15, 22, 19, 43),24400.0),position.new('SHORT',timestamp(2023, 3, 13, 9, 21, 3),21363.09834883),position.new('SHORT',timestamp(2023, 3, 13, 9, 23, 1),21436.70204273),position.new('SHORT',timestamp(2023, 3, 13, 9, 23, 25),21343.42231405),position.new('LONG',timestamp(2023, 3, 13, 12, 30, 2),22097.47750343),position.new('LONG',timestamp(2023, 3, 13, 3, 1, 10),1276.512557753),position.new('LONG',timestamp(2023, 3, 13, 9, 19, 35),21521.11202447),position.new('LONG',timestamp(2023, 3, 13, 7, 3, 0),22360.3),position.new('LONG',timestamp(2023, 3, 13, 0, 41, 44),20363.44449601),position.new('SHORT',timestamp(2023, 3, 13, 11, 31, 38),22022.35198437),position.new('LONG',timestamp(2023, 3, 10, 13, 30, 3),16893.96323009),position.new('LONG',timestamp(2023, 3, 11, 1, 41, 45),20569.87181909),position.new('LONG',timestamp(2023, 3, 13, 0, 43, 38),1443.1),position.new('LONG',timestamp(2023, 3, 10, 4, 53, 19),21969.90814844),position.new('SHORT',timestamp(2023, 3, 13, 7, 55, 46),21443.83328889),position.new('SHORT',timestamp(2023, 3, 13, 7, 56, 51),21474.67630587),position.new('SHORT',timestamp(2023, 3, 13, 7, 57, 51),21409.85074628),position.new('LONG',timestamp(2023, 3, 10, 7, 31, 41),21209.17297919),position.new('LONG',timestamp(2023, 3, 13, 7, 2, 18),22360.8),position.new('SHORT',timestamp(2023, 3, 13, 4, 28, 1),22352.9))\n",
      "\n",
      "plot_long = false\n",
      "plot_short = false\n",
      "var position pos = position.new()\n",
      "\n",
      "for i = 0 to array.size(positions) -1\n",
      "    pos := array.get(positions, i)\n",
      "    data = pos.time > time and pos.time < time_close\n",
      "    if data\n",
      "        if pos.direction == 'LONG'\n",
      "            plot_long := true\n",
      "            line.new(bar_index, pos.entry, bar_index+1, pos.entry, extend=extend.right, color=color.green, style=line.style_solid)\n",
      "        else if pos.direction == 'SHORT'\n",
      "            line.new(bar_index, pos.entry, bar_index+1, pos.entry, extend=extend.right, color=color.red, style=line.style_solid)\n",
      "            plot_short := true\n",
      "        break\n",
      "\n",
      "\n",
      "plotshape(plot_long, style=shape.arrowup, location=location.abovebar, color = color.green)\n",
      "plotshape(plot_short, style=shape.arrowdown, location=location.abovebar, color = color.red)\n",
      "\n",
      "\n",
      "// target_date = timestamp(2023, 3, 11, 09, 58, 42)\n",
      "// data = target_date > time and target_date < time_close\n",
      "// plotshape(data, style=shape.xcross, location=location.abovebar)\n",
      "\n"
     ]
    }
   ],
   "source": [
    "print(ps(btc_entries))"
   ]
  },
  {
   "cell_type": "code",
   "execution_count": 20,
   "outputs": [],
   "source": [],
   "metadata": {
    "collapsed": false,
    "ExecuteTime": {
     "start_time": "2023-03-13T13:43:50.481445Z",
     "end_time": "2023-03-13T13:43:50.502930Z"
    }
   }
  },
  {
   "cell_type": "code",
   "execution_count": 20,
   "id": "408402e6-f830-4636-870f-fcdc14e59959",
   "metadata": {
    "ExecuteTime": {
     "start_time": "2023-03-13T13:43:50.481549Z",
     "end_time": "2023-03-13T13:43:50.502997Z"
    }
   },
   "outputs": [],
   "source": []
  },
  {
   "cell_type": "code",
   "execution_count": 20,
   "id": "f8bc3eef-9206-472d-ae61-0c0baf4303c3",
   "metadata": {
    "ExecuteTime": {
     "start_time": "2023-03-13T13:43:50.481791Z",
     "end_time": "2023-03-13T13:43:50.503062Z"
    }
   },
   "outputs": [],
   "source": []
  },
  {
   "cell_type": "code",
   "execution_count": 20,
   "id": "3b731c9b-7dc9-4af7-b070-a3879d7a10d0",
   "metadata": {
    "ExecuteTime": {
     "start_time": "2023-03-13T13:43:50.481900Z",
     "end_time": "2023-03-13T13:43:50.503128Z"
    }
   },
   "outputs": [],
   "source": []
  },
  {
   "cell_type": "code",
   "execution_count": 20,
   "id": "193932bf-d848-44fc-90f7-816e5fe94b4b",
   "metadata": {
    "ExecuteTime": {
     "start_time": "2023-03-13T13:43:50.482059Z",
     "end_time": "2023-03-13T13:43:50.503192Z"
    }
   },
   "outputs": [],
   "source": []
  },
  {
   "cell_type": "code",
   "execution_count": 20,
   "id": "54859d52-31d4-432e-8030-a519e8db5cc3",
   "metadata": {
    "ExecuteTime": {
     "start_time": "2023-03-13T13:43:50.482173Z",
     "end_time": "2023-03-13T13:43:50.503257Z"
    }
   },
   "outputs": [],
   "source": []
  }
 ],
 "metadata": {
  "kernelspec": {
   "display_name": "Python 3 (ipykernel)",
   "language": "python",
   "name": "python3"
  },
  "language_info": {
   "codemirror_mode": {
    "name": "ipython",
    "version": 3
   },
   "file_extension": ".py",
   "mimetype": "text/x-python",
   "name": "python",
   "nbconvert_exporter": "python",
   "pygments_lexer": "ipython3",
   "version": "3.11.0rc2"
  }
 },
 "nbformat": 4,
 "nbformat_minor": 5
}
