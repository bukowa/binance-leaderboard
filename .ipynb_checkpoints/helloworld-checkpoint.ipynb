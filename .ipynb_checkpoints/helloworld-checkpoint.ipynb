{
 "cells": [
  {
   "cell_type": "code",
   "execution_count": 53,
   "id": "75c9640a",
   "metadata": {
    "tags": []
   },
   "outputs": [],
   "source": [
    "import json\n",
    "\n",
    "\n",
    "with open('binance/traders_with_position.json', 'r') as f:\n",
    "    traders = json.load(f)\n",
    "\n",
    "with open('binance/positions.json', 'r') as f:\n",
    "    positions = json.load(f)\n"
   ]
  },
  {
   "cell_type": "code",
   "execution_count": 54,
   "id": "45de5e47",
   "metadata": {
    "tags": []
   },
   "outputs": [
    {
     "data": {
      "text/plain": [
       "{'futureUid': None,\n",
       " 'nickName': 'Epluo',\n",
       " 'userPhotoUrl': '',\n",
       " 'rank': 24542,\n",
       " 'pnl': 725.393733,\n",
       " 'roi': 0.198487,\n",
       " 'positionShared': True,\n",
       " 'twitterUrl': None,\n",
       " 'encryptedUid': '6F3B68B851AB5C9E2DF3CAF43DC13B1F',\n",
       " 'updateTime': 1678320000000,\n",
       " 'followerCount': 28,\n",
       " 'twShared': True,\n",
       " 'isTwTrader': True,\n",
       " 'openId': 'zoh75s3',\n",
       " 'tradeType': 'PERPETUAL'}"
      ]
     },
     "execution_count": 54,
     "metadata": {},
     "output_type": "execute_result"
    }
   ],
   "source": [
    "traders[0]"
   ]
  },
  {
   "cell_type": "code",
   "execution_count": 55,
   "id": "9bfe2200",
   "metadata": {
    "tags": []
   },
   "outputs": [
    {
     "data": {
      "text/plain": [
       "{'symbol': 'ETHUSDT',\n",
       " 'entryPrice': 1623.295685903,\n",
       " 'markPrice': 1430.67,\n",
       " 'pnl': 4682.92304991,\n",
       " 'roe': 2.0196028,\n",
       " 'updateTime': [2023, 3, 2, 19, 2, 52, 713000000],\n",
       " 'amount': -24.311,\n",
       " 'updateTimeStamp': 1677783772713,\n",
       " 'yellow': False,\n",
       " 'tradeBefore': True,\n",
       " 'leverage': 15,\n",
       " 'uuid': '6F3B68B851AB5C9E2DF3CAF43DC13B1F',\n",
       " 'tradeType': 'PERPETUAL',\n",
       " 'total_pnl': -17951.10920089,\n",
       " 'total_roi': -12.698699999999999}"
      ]
     },
     "execution_count": 55,
     "metadata": {},
     "output_type": "execute_result"
    }
   ],
   "source": [
    "positions[0]"
   ]
  },
  {
   "cell_type": "code",
   "execution_count": 56,
   "id": "bfe5a815",
   "metadata": {
    "tags": []
   },
   "outputs": [],
   "source": [
    "good_positions = [pos for pos in positions if pos['total_roi'] > 25 and pos['total_pnl'] > 10000]"
   ]
  },
  {
   "cell_type": "code",
   "execution_count": 57,
   "id": "b8121a8c-6ae0-45b8-85cb-ad94ae856dac",
   "metadata": {
    "tags": []
   },
   "outputs": [
    {
     "data": {
      "text/plain": [
       "753"
      ]
     },
     "execution_count": 57,
     "metadata": {},
     "output_type": "execute_result"
    }
   ],
   "source": [
    "len(good_positions)"
   ]
  },
  {
   "cell_type": "code",
   "execution_count": 58,
   "id": "f4f9249e-1cbe-4f5d-b8cd-44d677aa3202",
   "metadata": {
    "tags": []
   },
   "outputs": [],
   "source": [
    "btc_positions = [pos for pos in good_positions if pos['symbol'].startswith('BTC')]"
   ]
  },
  {
   "cell_type": "code",
   "execution_count": 59,
   "id": "32a2fc31-75e5-46df-8536-3a8d607b4b24",
   "metadata": {
    "tags": []
   },
   "outputs": [
    {
     "data": {
      "text/plain": [
       "46"
      ]
     },
     "execution_count": 59,
     "metadata": {},
     "output_type": "execute_result"
    }
   ],
   "source": [
    "len(btc_positions)"
   ]
  },
  {
   "cell_type": "code",
   "execution_count": 60,
   "id": "bedeb041-270a-48ba-ab6d-c3ca3791583d",
   "metadata": {
    "tags": []
   },
   "outputs": [],
   "source": [
    "btc_entries = []\n",
    "for pos in btc_positions:\n",
    "    btc_entries.append(\n",
    "        dict(\n",
    "            entry=pos['entryPrice'],\n",
    "            direction='SHORT' if pos['amount'] < 0 else 'LONG',\n",
    "            time=pos['updateTime']\n",
    "        )\n",
    "    )"
   ]
  },
  {
   "cell_type": "code",
   "execution_count": 62,
   "id": "24fd4c14-d605-4ab8-8ad8-0bb7cf18d636",
   "metadata": {
    "tags": []
   },
   "outputs": [
    {
     "data": {
      "text/plain": [
       "[{'entry': 17495.23505129,\n",
       "  'direction': 'LONG',\n",
       "  'time': [2023, 2, 16, 1, 59, 29, 676000000]},\n",
       " {'entry': 21966.85913111,\n",
       "  'direction': 'SHORT',\n",
       "  'time': [2023, 3, 11, 8, 0, 0, 502000000]}]"
      ]
     },
     "execution_count": 62,
     "metadata": {},
     "output_type": "execute_result"
    }
   ],
   "source": [
    "btc_entries[:2]"
   ]
  },
  {
   "cell_type": "code",
   "execution_count": 72,
   "id": "5a69eb4e-4cd3-4fcc-aa87-213d816ccb21",
   "metadata": {
    "tags": []
   },
   "outputs": [
    {
     "name": "stdout",
     "output_type": "stream",
     "text": [
      "LONG,timestamp(2023, 2, 16, 1, 59, 29),17495.23505129\n"
     ]
    }
   ],
   "source": [
    "b = btc_entries[0]\n",
    "t = b['time']\n",
    "print(f\"{b['direction']},timestamp{t[0], t[1], t[2], t[3], t[4], t[5]},{b['entry']}\")"
   ]
  },
  {
   "cell_type": "code",
   "execution_count": null,
   "id": "33cbe78d-3a4c-436d-a9b0-a61fd5cbbd9c",
   "metadata": {},
   "outputs": [],
   "source": []
  }
 ],
 "metadata": {
  "kernelspec": {
   "display_name": "Python 3 (ipykernel)",
   "language": "python",
   "name": "python3"
  },
  "language_info": {
   "codemirror_mode": {
    "name": "ipython",
    "version": 3
   },
   "file_extension": ".py",
   "mimetype": "text/x-python",
   "name": "python",
   "nbconvert_exporter": "python",
   "pygments_lexer": "ipython3",
   "version": "3.11.0rc2"
  }
 },
 "nbformat": 4,
 "nbformat_minor": 5
}
