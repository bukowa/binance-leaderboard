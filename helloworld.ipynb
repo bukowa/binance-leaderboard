{
 "cells": [
  {
   "cell_type": "code",
   "execution_count": 56,
   "id": "75c9640a",
   "metadata": {
    "tags": []
   },
   "outputs": [],
   "source": [
    "import json\n",
    "\n",
    "\n",
    "with open('binance/traders_with_position.json', 'r') as f:\n",
    "    traders = json.load(f)\n",
    "\n",
    "with open('binance/positions.json', 'r') as f:\n",
    "    positions = json.load(f)\n"
   ]
  },
  {
   "cell_type": "code",
   "execution_count": 57,
   "id": "45de5e47",
   "metadata": {
    "tags": []
   },
   "outputs": [
    {
     "data": {
      "text/plain": [
       "{'futureUid': None,\n",
       " 'nickName': 'Anonymous User-0d8a8',\n",
       " 'userPhotoUrl': '',\n",
       " 'rank': 1111,\n",
       " 'pnl': 299.232789,\n",
       " 'roi': 1.178169,\n",
       " 'positionShared': True,\n",
       " 'twitterUrl': None,\n",
       " 'encryptedUid': '7C3D11393B4FDF1C08B8466A06B7AB94',\n",
       " 'updateTime': 1678320000000,\n",
       " 'followerCount': 133,\n",
       " 'twShared': None,\n",
       " 'isTwTrader': False,\n",
       " 'openId': None,\n",
       " 'tradeType': 'PERPETUAL'}"
      ]
     },
     "execution_count": 57,
     "metadata": {},
     "output_type": "execute_result"
    }
   ],
   "source": [
    "traders[0]"
   ]
  },
  {
   "cell_type": "code",
   "execution_count": 58,
   "id": "9bfe2200",
   "metadata": {
    "tags": []
   },
   "outputs": [
    {
     "data": {
      "text/plain": [
       "{'symbol': 'BTCUSDT',\n",
       " 'entryPrice': 19934.36137841,\n",
       " 'markPrice': 20089.37376824,\n",
       " 'pnl': 119.20452777,\n",
       " 'roe': 0.96451731,\n",
       " 'updateTime': [2023, 3, 11, 9, 27, 5, 30000000],\n",
       " 'amount': 0.769,\n",
       " 'updateTimeStamp': 1678526825030,\n",
       " 'yellow': True,\n",
       " 'tradeBefore': False,\n",
       " 'leverage': 125,\n",
       " 'uuid': '7C3D11393B4FDF1C08B8466A06B7AB94',\n",
       " 'tradeType': 'PERPETUAL',\n",
       " 'total_pnl': -71449.22859784,\n",
       " 'total_roi': -47.5498}"
      ]
     },
     "execution_count": 58,
     "metadata": {},
     "output_type": "execute_result"
    }
   ],
   "source": [
    "positions[0]"
   ]
  },
  {
   "cell_type": "code",
   "execution_count": 61,
   "id": "bfe5a815",
   "metadata": {
    "tags": []
   },
   "outputs": [],
   "source": [
    "good_positions = [pos for pos in positions if pos['roe'] *100 > 25]"
   ]
  },
  {
   "cell_type": "code",
   "execution_count": 62,
   "id": "b8121a8c-6ae0-45b8-85cb-ad94ae856dac",
   "metadata": {
    "tags": []
   },
   "outputs": [
    {
     "data": {
      "text/plain": [
       "821"
      ]
     },
     "execution_count": 62,
     "metadata": {},
     "output_type": "execute_result"
    }
   ],
   "source": [
    "len(good_positions)"
   ]
  },
  {
   "cell_type": "code",
   "execution_count": 63,
   "id": "f4f9249e-1cbe-4f5d-b8cd-44d677aa3202",
   "metadata": {
    "tags": []
   },
   "outputs": [],
   "source": [
    "btc_positions = [pos for pos in good_positions if pos['symbol'].startswith('BTC')]"
   ]
  },
  {
   "cell_type": "code",
   "execution_count": 64,
   "id": "32a2fc31-75e5-46df-8536-3a8d607b4b24",
   "metadata": {
    "tags": []
   },
   "outputs": [
    {
     "data": {
      "text/plain": [
       "83"
      ]
     },
     "execution_count": 64,
     "metadata": {},
     "output_type": "execute_result"
    }
   ],
   "source": [
    "len(btc_positions)"
   ]
  },
  {
   "cell_type": "code",
   "execution_count": 65,
   "id": "bedeb041-270a-48ba-ab6d-c3ca3791583d",
   "metadata": {
    "tags": []
   },
   "outputs": [],
   "source": [
    "btc_entries = []\n",
    "for pos in btc_positions:\n",
    "    btc_entries.append(\n",
    "        dict(\n",
    "            entry=pos['entryPrice'],\n",
    "            direction='SHORT' if pos['amount'] < 0 else 'LONG',\n",
    "            time=pos['updateTime']\n",
    "        )\n",
    "    )"
   ]
  },
  {
   "cell_type": "code",
   "execution_count": 66,
   "id": "5a69eb4e-4cd3-4fcc-aa87-213d816ccb21",
   "metadata": {
    "tags": []
   },
   "outputs": [],
   "source": [
    "def ps_position_new(pos:dict) -> str:\n",
    "    t = pos['time']\n",
    "    return f\"position.new('{pos['direction']}',timestamp{t[0], t[1], t[2], t[3], t[4], t[5]},{pos['entry']})\"\n",
    "\n",
    "def ps_positions(_pos: list[dict]) -> str:\n",
    "    p = [ps_position_new(pos) for pos in _pos]\n",
    "    return 'var position[] positions  = array.from(' + ','.join(p) + ')'\n",
    "\n",
    "def ps(_pos: list[dict]) -> str:\n",
    "    return f\"\"\"\n",
    "// This source code is subject to the terms of the Mozilla Public License 2.0 at https://mozilla.org/MPL/2.0/\n",
    "// © bkxuks\n",
    "\n",
    "//@version=5\n",
    "indicator('plotshape example 1', overlay=true)\n",
    "\n",
    "type position\n",
    "    string direction\n",
    "    int time\n",
    "    float entry\n",
    "\n",
    "{ps_positions(_pos)}\n",
    "\n",
    "plot_long = false\n",
    "plot_short = false\n",
    "var position pos = position.new()\n",
    "\n",
    "for i = 0 to array.size(positions) -1\n",
    "    pos := array.get(positions, i)\n",
    "    data = pos.time > time and pos.time < time_close\n",
    "    if data\n",
    "        if pos.direction == 'LONG'\n",
    "            plot_long := true\n",
    "            line.new(bar_index, pos.entry, bar_index+1, pos.entry, extend=extend.right, color=color.green, style=line.style_solid)\n",
    "        else if pos.direction == 'SHORT'\n",
    "            line.new(bar_index, pos.entry, bar_index+1, pos.entry, extend=extend.right, color=color.red, style=line.style_solid)\n",
    "            plot_short := true\n",
    "        break\n",
    "\n",
    "\n",
    "plotshape(plot_long, style=shape.arrowup, location=location.abovebar, color = color.green)\n",
    "plotshape(plot_short, style=shape.arrowdown, location=location.abovebar, color = color.red)\n",
    "\n",
    "\n",
    "// target_date = timestamp(2023, 3, 11, 09, 58, 42)\n",
    "// data = target_date > time and target_date < time_close\n",
    "// plotshape(data, style=shape.xcross, location=location.abovebar)\n",
    "\"\"\""
   ]
  },
  {
   "cell_type": "code",
   "execution_count": 67,
   "id": "12e6ba33-e757-48c5-8c0e-c2ebbcca6baf",
   "metadata": {
    "tags": []
   },
   "outputs": [
    {
     "name": "stdout",
     "output_type": "stream",
     "text": [
      "\n",
      "// This source code is subject to the terms of the Mozilla Public License 2.0 at https://mozilla.org/MPL/2.0/\n",
      "// © bkxuks\n",
      "\n",
      "//@version=5\n",
      "indicator('plotshape example 1', overlay=true)\n",
      "\n",
      "type position\n",
      "    string direction\n",
      "    int time\n",
      "    float entry\n",
      "\n",
      "var position[] positions  = array.from(position.new('SHORT',timestamp(2023, 3, 9, 7, 12, 2),21717.2),position.new('SHORT',timestamp(2023, 3, 11, 8, 7, 57),20419.14166338),position.new('SHORT',timestamp(2023, 3, 11, 4, 22, 22),20320.4),position.new('SHORT',timestamp(2023, 3, 11, 8, 0, 0),22361.93849986),position.new('LONG',timestamp(2023, 3, 11, 7, 54, 57),19901.4),position.new('SHORT',timestamp(2023, 2, 21, 9, 36, 28),24773.4),position.new('SHORT',timestamp(2023, 3, 11, 8, 0, 0),25140.2),position.new('LONG',timestamp(2023, 3, 11, 8, 0, 0),17417.51037426),position.new('LONG',timestamp(2023, 3, 10, 13, 30, 3),16893.96323009),position.new('SHORT',timestamp(2023, 3, 11, 1, 57, 17),20596.2),position.new('SHORT',timestamp(2023, 3, 11, 8, 0, 0),21966.85913111),position.new('SHORT',timestamp(2023, 3, 9, 20, 46, 32),21929.15196629),position.new('SHORT',timestamp(2023, 3, 11, 4, 48, 33),20524.76308667),position.new('SHORT',timestamp(2023, 3, 8, 20, 32, 51),21650.27598828),position.new('SHORT',timestamp(2023, 3, 8, 20, 32, 54),21881.73553962),position.new('SHORT',timestamp(2023, 3, 8, 20, 32, 51),22252.23054558),position.new('SHORT',timestamp(2023, 3, 8, 20, 32, 27),21252.27285569),position.new('SHORT',timestamp(2023, 3, 8, 20, 32, 53),21156.87227722),position.new('SHORT',timestamp(2023, 3, 11, 8, 0, 0),25087.0),position.new('SHORT',timestamp(2023, 3, 8, 20, 32, 55),21343.89104887),position.new('SHORT',timestamp(2023, 3, 8, 20, 34, 12),21330.51209679),position.new('SHORT',timestamp(2023, 2, 21, 14, 39, 52),24731.4),position.new('SHORT',timestamp(2023, 3, 11, 8, 0, 0),23698.39115646),position.new('SHORT',timestamp(2021, 10, 20, 13, 42, 25),64994.30559711),position.new('LONG',timestamp(2023, 3, 11, 8, 0, 0),15555.5),position.new('SHORT',timestamp(2023, 2, 21, 8, 35, 26),25035.65589999),position.new('LONG',timestamp(2023, 3, 11, 7, 45, 6),19901.8),position.new('SHORT',timestamp(2023, 3, 11, 3, 44, 21),20390.0),position.new('SHORT',timestamp(2023, 3, 11, 8, 0, 0),24336.35997735),position.new('SHORT',timestamp(2023, 3, 7, 10, 59, 20),22438.8),position.new('SHORT',timestamp(2023, 3, 11, 2, 57, 25),21413.6),position.new('SHORT',timestamp(2023, 3, 10, 10, 48, 9),21431.04185606),position.new('SHORT',timestamp(2023, 3, 11, 8, 12, 18),25111.39258514),position.new('SHORT',timestamp(2023, 3, 11, 7, 38, 0),20351.19445086),position.new('SHORT',timestamp(2023, 3, 11, 8, 0, 0),22915.57930589),position.new('SHORT',timestamp(2023, 3, 10, 23, 12, 10),22276.8),position.new('SHORT',timestamp(2023, 3, 11, 8, 46, 56),22049.47404487),position.new('SHORT',timestamp(2023, 3, 8, 20, 34, 59),21560.00525276),position.new('SHORT',timestamp(2023, 3, 8, 20, 34, 59),21849.21642188),position.new('SHORT',timestamp(2023, 3, 8, 20, 34, 11),22200.84658018),position.new('SHORT',timestamp(2023, 2, 22, 15, 12, 23),29289.0),position.new('SHORT',timestamp(2023, 3, 9, 19, 24, 28),22298.35000001),position.new('SHORT',timestamp(2023, 3, 11, 8, 0, 0),22027.85870445),position.new('SHORT',timestamp(2023, 3, 11, 8, 0, 2),21295.82955026),position.new('SHORT',timestamp(2023, 3, 11, 2, 5, 45),21485.61556223),position.new('LONG',timestamp(2022, 11, 24, 16, 4, 20),16547.0),position.new('SHORT',timestamp(2023, 1, 15, 16, 40, 9),21358.4),position.new('SHORT',timestamp(2023, 3, 9, 20, 25, 18),23238.92653846),position.new('SHORT',timestamp(2023, 3, 9, 20, 25, 14),22048.92070044),position.new('LONG',timestamp(2023, 3, 10, 11, 16, 1),19679.0),position.new('SHORT',timestamp(2023, 2, 15, 22, 19, 43),24400.0),position.new('SHORT',timestamp(2023, 3, 9, 19, 1, 10),21379.05),position.new('SHORT',timestamp(2023, 3, 6, 17, 9, 13),23184.59329693),position.new('SHORT',timestamp(2023, 3, 11, 8, 0, 2),20784.3),position.new('SHORT',timestamp(2023, 2, 16, 9, 41, 50),22701.9),position.new('SHORT',timestamp(2023, 3, 1, 6, 34, 2),23750.0),position.new('SHORT',timestamp(2023, 3, 11, 1, 44, 4),20454.21599999),position.new('SHORT',timestamp(2023, 3, 11, 8, 0, 0),21988.28375973),position.new('SHORT',timestamp(2023, 3, 9, 19, 50, 46),20846.33501752),position.new('LONG',timestamp(2022, 12, 31, 13, 33, 31),16594.6),position.new('SHORT',timestamp(2023, 3, 9, 6, 7, 10),21720.0),position.new('SHORT',timestamp(2023, 3, 11, 9, 2, 41),20302.53407968),position.new('SHORT',timestamp(2023, 3, 1, 1, 4, 38),23103.7),position.new('SHORT',timestamp(2023, 3, 11, 8, 0, 0),21796.0),position.new('SHORT',timestamp(2023, 3, 11, 4, 22, 22),20320.4),position.new('SHORT',timestamp(2023, 3, 8, 20, 32, 51),21650.27598828),position.new('SHORT',timestamp(2023, 3, 8, 20, 32, 54),21881.73553962),position.new('SHORT',timestamp(2023, 3, 8, 20, 32, 51),22252.23054558),position.new('SHORT',timestamp(2023, 3, 8, 20, 32, 27),21252.27285569),position.new('SHORT',timestamp(2023, 3, 8, 20, 32, 53),21156.87227722),position.new('SHORT',timestamp(2023, 3, 8, 20, 32, 55),21343.89104887),position.new('SHORT',timestamp(2023, 3, 8, 20, 34, 12),21330.51209679),position.new('SHORT',timestamp(2023, 3, 7, 10, 59, 20),22438.8),position.new('SHORT',timestamp(2023, 3, 11, 2, 57, 25),21413.6),position.new('SHORT',timestamp(2023, 3, 3, 1, 31, 13),22550.1),position.new('SHORT',timestamp(2023, 3, 8, 20, 34, 59),21560.00525276),position.new('SHORT',timestamp(2023, 3, 8, 20, 34, 59),21849.21642188),position.new('SHORT',timestamp(2023, 3, 8, 20, 34, 11),22200.84658018),position.new('SHORT',timestamp(2023, 3, 11, 8, 0, 2),21295.82955026),position.new('SHORT',timestamp(2023, 3, 11, 2, 5, 45),21485.61556223),position.new('LONG',timestamp(2022, 11, 24, 16, 4, 20),16547.0),position.new('SHORT',timestamp(2023, 1, 15, 16, 40, 9),21358.4),position.new('SHORT',timestamp(2022, 5, 26, 11, 58, 28),29980.21430707))\n",
      "\n",
      "plot_long = false\n",
      "plot_short = false\n",
      "var position pos = position.new()\n",
      "\n",
      "for i = 0 to array.size(positions) -1\n",
      "    pos := array.get(positions, i)\n",
      "    data = pos.time > time and pos.time < time_close\n",
      "    if data\n",
      "        if pos.direction == 'LONG'\n",
      "            plot_long := true\n",
      "            line.new(bar_index, pos.entry, bar_index+1, pos.entry, extend=extend.right, color=color.green, style=line.style_solid)\n",
      "        else if pos.direction == 'SHORT'\n",
      "            line.new(bar_index, pos.entry, bar_index+1, pos.entry, extend=extend.right, color=color.red, style=line.style_solid)\n",
      "            plot_short := true\n",
      "        break\n",
      "\n",
      "\n",
      "plotshape(plot_long, style=shape.arrowup, location=location.abovebar, color = color.green)\n",
      "plotshape(plot_short, style=shape.arrowdown, location=location.abovebar, color = color.red)\n",
      "\n",
      "\n",
      "// target_date = timestamp(2023, 3, 11, 09, 58, 42)\n",
      "// data = target_date > time and target_date < time_close\n",
      "// plotshape(data, style=shape.xcross, location=location.abovebar)\n",
      "\n"
     ]
    }
   ],
   "source": [
    "print(ps(btc_entries))"
   ]
  },
  {
   "cell_type": "code",
   "execution_count": null,
   "id": "408402e6-f830-4636-870f-fcdc14e59959",
   "metadata": {},
   "outputs": [],
   "source": []
  },
  {
   "cell_type": "code",
   "execution_count": null,
   "id": "f8bc3eef-9206-472d-ae61-0c0baf4303c3",
   "metadata": {},
   "outputs": [],
   "source": []
  },
  {
   "cell_type": "code",
   "execution_count": null,
   "id": "3b731c9b-7dc9-4af7-b070-a3879d7a10d0",
   "metadata": {},
   "outputs": [],
   "source": []
  },
  {
   "cell_type": "code",
   "execution_count": null,
   "id": "193932bf-d848-44fc-90f7-816e5fe94b4b",
   "metadata": {},
   "outputs": [],
   "source": []
  },
  {
   "cell_type": "code",
   "execution_count": null,
   "id": "54859d52-31d4-432e-8030-a519e8db5cc3",
   "metadata": {},
   "outputs": [],
   "source": []
  }
 ],
 "metadata": {
  "kernelspec": {
   "display_name": "Python 3 (ipykernel)",
   "language": "python",
   "name": "python3"
  },
  "language_info": {
   "codemirror_mode": {
    "name": "ipython",
    "version": 3
   },
   "file_extension": ".py",
   "mimetype": "text/x-python",
   "name": "python",
   "nbconvert_exporter": "python",
   "pygments_lexer": "ipython3",
   "version": "3.11.0rc2"
  }
 },
 "nbformat": 4,
 "nbformat_minor": 5
}
